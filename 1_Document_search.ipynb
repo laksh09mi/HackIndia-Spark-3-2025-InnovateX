{
  "nbformat": 4,
  "nbformat_minor": 0,
  "metadata": {
    "colab": {
      "provenance": []
    },
    "kernelspec": {
      "name": "python3",
      "display_name": "Python 3"
    },
    "language_info": {
      "name": "python"
    }
  },
  "cells": [
    {
      "cell_type": "code",
      "source": [
        "# Install dependencies\n",
        "!pip install gradio PyPDF2 sentence-transformers faiss-cpu --quiet"
      ],
      "metadata": {
        "id": "V2T3-691834d"
      },
      "execution_count": null,
      "outputs": []
    },
    {
      "cell_type": "code",
      "source": [
        "# Imports\n",
        "import gradio as gr\n",
        "import PyPDF2\n",
        "import io\n",
        "import numpy as np\n",
        "import faiss\n",
        "from sentence_transformers import SentenceTransformer"
      ],
      "metadata": {
        "id": "ny0LPp74RRLQ"
      },
      "execution_count": null,
      "outputs": []
    },
    {
      "cell_type": "code",
      "source": [
        "# Load the model\n",
        "model = SentenceTransformer('all-MiniLM-L6-v2')\n",
        "\n",
        "# Define the function\n",
        "def process_pdf(file, query):\n",
        "    try:\n",
        "        if not file:\n",
        "            return \"Please upload a PDF file.\"\n",
        "        if not query or query.strip() == \"\":\n",
        "            return \"Please enter a valid question.\"\n",
        "\n",
        "        # Read PDF (file is already in bytes format)\n",
        "        pdf_reader = PyPDF2.PdfReader(io.BytesIO(file))\n",
        "        text = \"\"\n",
        "        for page in pdf_reader.pages:\n",
        "            page_text = page.extract_text()\n",
        "            if page_text:\n",
        "                text += page_text + \" \"\n",
        "\n",
        "        if not text.strip():\n",
        "            return \"The PDF has no extractable text.\"\n",
        "\n",
        "        # Split into chunks with overlap\n",
        "        words = text.split()\n",
        "        chunk_size = 300\n",
        "        overlap = 50\n",
        "        chunks = [' '.join(words[i:i+chunk_size])\n",
        "                 for i in range(0, len(words), chunk_size - overlap)]\n",
        "\n",
        "        # Get embeddings\n",
        "        embeddings = model.encode(chunks)\n",
        "\n",
        "        # Create FAISS index\n",
        "        index = faiss.IndexFlatL2(embeddings.shape[1])\n",
        "        index.add(np.array(embeddings))\n",
        "\n",
        "        # Search\n",
        "        query_embed = model.encode([query])\n",
        "        distances, indices = index.search(query_embed, 3)\n",
        "\n",
        "        # Return top 3 matching chunks with scores\n",
        "        results = [f\"Match {i+1} (Score: {1/(1+distances[0][i]):.2f}):\\n{chunks[idx]}\"\n",
        "                  for i, idx in enumerate(indices[0])]\n",
        "        return \"\\n\\n---\\n\\n\".join(results)\n",
        "\n",
        "    except Exception as e:\n",
        "        return f\"Error: {str(e)}\""
      ],
      "metadata": {
        "id": "3wiLzkS5RWIb"
      },
      "execution_count": null,
      "outputs": []
    },
    {
      "cell_type": "code",
      "source": [
        "# Launch Gradio with custom dark theme\n",
        "gr.Interface(\n",
        "    fn=process_pdf,\n",
        "    inputs=[\n",
        "        gr.File(type=\"binary\", label=\"Upload PDF\"),\n",
        "        gr.Textbox(label=\"Ask a question\")\n",
        "    ],\n",
        "    outputs=gr.Textbox(label=\"Answer\"),\n",
        "    title=\"AI-Based Document Search Assistant\",\n",
        "    description=\"Upload a text-based PDF and ask any question.\",\n",
        ").launch(share=True)"
      ],
      "metadata": {
        "colab": {
          "base_uri": "https://localhost:8080/",
          "height": 611
        },
        "id": "mIsDckUURYfN",
        "outputId": "160ad920-5a98-427b-f31a-38a9cc18ceac"
      },
      "execution_count": null,
      "outputs": [
        {
          "output_type": "stream",
          "name": "stdout",
          "text": [
            "Colab notebook detected. To show errors in colab notebook, set debug=True in launch()\n",
            "* Running on public URL: https://165ce00cfa7cfc4785.gradio.live\n",
            "\n",
            "This share link expires in 72 hours. For free permanent hosting and GPU upgrades, run `gradio deploy` from the terminal in the working directory to deploy to Hugging Face Spaces (https://huggingface.co/spaces)\n"
          ]
        },
        {
          "output_type": "display_data",
          "data": {
            "text/plain": [
              "<IPython.core.display.HTML object>"
            ],
            "text/html": [
              "<div><iframe src=\"https://165ce00cfa7cfc4785.gradio.live\" width=\"100%\" height=\"500\" allow=\"autoplay; camera; microphone; clipboard-read; clipboard-write;\" frameborder=\"0\" allowfullscreen></iframe></div>"
            ]
          },
          "metadata": {}
        },
        {
          "output_type": "execute_result",
          "data": {
            "text/plain": []
          },
          "metadata": {},
          "execution_count": 32
        }
      ]
    }
  ]
}