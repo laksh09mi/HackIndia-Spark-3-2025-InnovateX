{
  "nbformat": 4,
  "nbformat_minor": 0,
  "metadata": {
    "colab": {
      "provenance": []
    },
    "kernelspec": {
      "name": "python3",
      "display_name": "Python 3"
    },
    "language_info": {
      "name": "python"
    }
  },
  "cells": [
    {
      "cell_type": "code",
      "execution_count": null,
      "metadata": {
        "id": "WZu5Y5jkMwLK"
      },
      "outputs": [],
      "source": [
        "# Install necessary libraries\n",
        "!pip install PyPDF2 nltk spacy sumy gradio"
      ]
    },
    {
      "cell_type": "code",
      "source": [
        "# Import required libraries\n",
        "import PyPDF2  # For PDF text extraction\n",
        "import nltk\n",
        "import spacy\n",
        "from sumy.parsers.plaintext import PlaintextParser\n",
        "from sumy.nlp.tokenizers import Tokenizer\n",
        "from sumy.summarizers.lsa import LsaSummarizer\n",
        "import gradio as gr\n",
        "\n",
        "# Download necessary resources\n",
        "nltk.download('punkt')\n",
        "spacy.cli.download(\"en_core_web_sm\")  # Ensure model is downloaded\n",
        "nlp = spacy.load(\"en_core_web_sm\")"
      ],
      "metadata": {
        "id": "SXmkH_mwNOqa"
      },
      "execution_count": null,
      "outputs": []
    },
    {
      "cell_type": "code",
      "source": [
        "# Function to extract text from PDF\n",
        "def extract_text_from_pdf(pdf_path):\n",
        "    text = \"\"\n",
        "    with open(pdf_path, \"rb\") as file:\n",
        "        reader = PyPDF2.PdfReader(file)\n",
        "        for page in reader.pages:\n",
        "            text += page.extract_text()\n",
        "    return text\n",
        "\n",
        "# Function to generate summary\n",
        "def summarize_text(text, num_sentences=5):\n",
        "    if not text.strip():\n",
        "        return \"No text found in the document.\"\n",
        "    parser = PlaintextParser.from_string(text, Tokenizer(\"english\"))\n",
        "    summarizer = LsaSummarizer()\n",
        "    summary = summarizer(parser.document, num_sentences)\n",
        "    return \"\\n\".join([str(sentence) for sentence in summary])\n",
        "\n",
        "# Gradio interface function\n",
        "def summarize_pdf(file):\n",
        "    # Extract text from PDF\n",
        "    text = extract_text_from_pdf(file.name)\n",
        "\n",
        "    # Generate summary\n",
        "    summary = summarize_text(text)\n",
        "    return summary"
      ],
      "metadata": {
        "id": "65zPY8alNUt3"
      },
      "execution_count": null,
      "outputs": []
    }
  ]
}